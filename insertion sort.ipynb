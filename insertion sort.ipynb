{
 "cells": [
  {
   "cell_type": "markdown",
   "metadata": {},
   "source": [
    "Time Complexity O(n^2)\n",
    "\n",
    "Auxiliary Memory O(1)"
   ]
  },
  {
   "cell_type": "code",
   "execution_count": 2,
   "metadata": {},
   "outputs": [
    {
     "name": "stdout",
     "output_type": "stream",
     "text": [
      "unsorted:\n",
      "[10, 2, 15, 5, 13, 12, 7]\n",
      "element '2'inserted at position: 0\n",
      "element '15'inserted at position: 2\n",
      "element '5'inserted at position: 1\n",
      "element '13'inserted at position: 3\n",
      "element '12'inserted at position: 3\n",
      "element '7'inserted at position: 2\n",
      "sorted:\n",
      "[2, 5, 7, 10, 12, 13, 15]\n"
     ]
    }
   ],
   "source": [
    "#Insertion sort\n",
    "def InsertionSort(ulist):\n",
    "    # Traverse through the un-sorted list\n",
    "    for indx in range(1, len(ulist)):\n",
    " \n",
    " # selected element (starting from 2nd)\n",
    "        value = ulist[indx]\n",
    " \n",
    " # compare to previous elements\n",
    "        j = indx-1\n",
    "        while j >= 0 and value < ulist[j] :\n",
    "            ulist[j + 1] = ulist[j] # swap — shift \n",
    "            j -= 1\n",
    "        ulist[j + 1] = value # insert\n",
    "        print(f\"element '{value}'inserted at position: {j+1}\")\n",
    "\n",
    "def main():\n",
    "    ulist=[10,2,15,5,13,12,7] \n",
    "    print(f\"unsorted:\\n{ulist}\")\n",
    "    InsertionSort(ulist)\n",
    "    print(f\"sorted:\\n{ulist}\")\n",
    "\n",
    "if __name__ == \"__main__\":\n",
    "    main()\n",
    "\n"
   ]
  },
  {
   "cell_type": "code",
   "execution_count": null,
   "metadata": {},
   "outputs": [],
   "source": []
  }
 ],
 "metadata": {
  "kernelspec": {
   "display_name": "Python 3",
   "language": "python",
   "name": "python3"
  },
  "language_info": {
   "codemirror_mode": {
    "name": "ipython",
    "version": 3
   },
   "file_extension": ".py",
   "mimetype": "text/x-python",
   "name": "python",
   "nbconvert_exporter": "python",
   "pygments_lexer": "ipython3",
   "version": "3.11.5"
  }
 },
 "nbformat": 4,
 "nbformat_minor": 2
}
