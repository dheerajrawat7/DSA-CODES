{
 "cells": [
  {
   "cell_type": "code",
   "execution_count": 4,
   "metadata": {},
   "outputs": [
    {
     "name": "stdout",
     "output_type": "stream",
     "text": [
      "pass-0,step 0:[10, 15, 3, 4, 6, 13, 7]\n",
      "pass-0,step 1:[10, 3, 15, 4, 6, 13, 7]\n",
      "pass-0,step 2:[10, 3, 4, 15, 6, 13, 7]\n",
      "pass-0,step 3:[10, 3, 4, 6, 15, 13, 7]\n",
      "pass-0,step 4:[10, 3, 4, 6, 13, 15, 7]\n",
      "pass-0,step 5:[10, 3, 4, 6, 13, 7, 15]\n",
      "\n",
      "pass-1,step 0:[3, 10, 4, 6, 13, 7, 15]\n",
      "pass-1,step 1:[3, 4, 10, 6, 13, 7, 15]\n",
      "pass-1,step 2:[3, 4, 6, 10, 13, 7, 15]\n",
      "pass-1,step 3:[3, 4, 6, 10, 13, 7, 15]\n",
      "pass-1,step 4:[3, 4, 6, 10, 7, 13, 15]\n",
      "\n",
      "pass-2,step 0:[3, 4, 6, 10, 7, 13, 15]\n",
      "pass-2,step 1:[3, 4, 6, 10, 7, 13, 15]\n",
      "pass-2,step 2:[3, 4, 6, 10, 7, 13, 15]\n",
      "pass-2,step 3:[3, 4, 6, 7, 10, 13, 15]\n",
      "\n",
      "pass-3,step 0:[3, 4, 6, 7, 10, 13, 15]\n",
      "pass-3,step 1:[3, 4, 6, 7, 10, 13, 15]\n",
      "pass-3,step 2:[3, 4, 6, 7, 10, 13, 15]\n",
      "\n",
      "pass-4,step 0:[3, 4, 6, 7, 10, 13, 15]\n",
      "pass-4,step 1:[3, 4, 6, 7, 10, 13, 15]\n",
      "\n",
      "pass-5,step 0:[3, 4, 6, 7, 10, 13, 15]\n",
      "\n",
      "\n",
      "final sorted lsit:\n",
      "3 4 6 7 10 13 15 "
     ]
    }
   ],
   "source": [
    "#Bubble Sort \n",
    "def Bubblesort(lst):\n",
    "    size = len(lst)\n",
    "\n",
    "    for indx in range (size):\n",
    "        # traverse through to compare elements\n",
    "        for ii in range(0,size-1-indx):\n",
    "            #swap if the e_current > e_next\n",
    "            if lst[ii] > lst[ii+1]:\n",
    "                lst[ii],lst[ii+1]=lst[ii+1],lst[ii]\n",
    "            \n",
    "            #steps\n",
    "            print(f\"pass-{indx},step {ii}:{lst}\")\n",
    "\n",
    "        print('')\n",
    "\n",
    "def main():\n",
    "    l1=[10, 15, 3, 4, 6, 13, 7]      \n",
    "    Bubblesort(l1)\n",
    "    print(\"final sorted lsit:\")\n",
    "    for i in range(len(l1)):\n",
    "        print(l1[i], end=' ')\n",
    "\n",
    "if __name__== '__main__':\n",
    "    main()                  \n",
    "\n"
   ]
  }
 ],
 "metadata": {
  "kernelspec": {
   "display_name": "Python 3",
   "language": "python",
   "name": "python3"
  },
  "language_info": {
   "codemirror_mode": {
    "name": "ipython",
    "version": 3
   },
   "file_extension": ".py",
   "mimetype": "text/x-python",
   "name": "python",
   "nbconvert_exporter": "python",
   "pygments_lexer": "ipython3",
   "version": "3.11.5"
  }
 },
 "nbformat": 4,
 "nbformat_minor": 2
}
